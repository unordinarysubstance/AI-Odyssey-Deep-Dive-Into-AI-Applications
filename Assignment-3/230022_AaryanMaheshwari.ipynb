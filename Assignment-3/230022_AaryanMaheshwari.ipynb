{
  "nbformat": 4,
  "nbformat_minor": 0,
  "metadata": {
    "colab": {
      "provenance": []
    },
    "kernelspec": {
      "name": "python3",
      "display_name": "Python 3"
    },
    "language_info": {
      "name": "python"
    }
  },
  "cells": [
    {
      "cell_type": "markdown",
      "source": [
        "#Artificial Neural Network Assignment\n",
        "###In this assignment you will be implementing various functions from scratch so as to learn how it functions before going on to use various libraries. Doing it honestly will help you a lot in you understanding of the topic. If you encounter difficulties or stuck somewhere go online and search, the possibility that you are encountering the problem first time in 8 billion people is very slim so mostly you will be able to find the solution. Happy learning! 😀"
      ],
      "metadata": {
        "id": "uznt59A4H_8c"
      }
    },
    {
      "cell_type": "code",
      "source": [
        "import pandas as pd\n",
        "import numpy as np\n",
        "from matplotlib import pyplot as plt\n",
        "import seaborn as sns\n"
      ],
      "metadata": {
        "id": "RuJm-kgYIAuY"
      },
      "execution_count": 22,
      "outputs": []
    },
    {
      "cell_type": "code",
      "source": [
        "from google.colab import drive\n",
        "drive.mount('/content/drive')"
      ],
      "metadata": {
        "colab": {
          "base_uri": "https://localhost:8080/"
        },
        "id": "7429Cxc9C-1Y",
        "outputId": "2a2fcde7-e5fb-46db-d558-da8cc078f1f3"
      },
      "execution_count": 4,
      "outputs": [
        {
          "output_type": "stream",
          "name": "stdout",
          "text": [
            "Mounted at /content/drive\n"
          ]
        }
      ]
    },
    {
      "cell_type": "code",
      "source": [
        "test = pd.read_csv('/content/drive/MyDrive/mnist_test.csv')\n",
        "train = pd.read_csv('/content/drive/MyDrive/mnist_train.csv')"
      ],
      "metadata": {
        "id": "NhEX_6TCF9po"
      },
      "execution_count": 5,
      "outputs": []
    },
    {
      "cell_type": "code",
      "source": [
        "x_train = train.drop('label', axis=1)\n",
        "x_train = x_train.T\n",
        "x_train = x_train/255\n",
        "y_train = train.label\n",
        "\n",
        "x_test = test.drop('label',axis=1)\n",
        "x_test = x_test.T\n",
        "y_test = test.label\n",
        "print(x_train)\n",
        "print(y_train)"
      ],
      "metadata": {
        "colab": {
          "base_uri": "https://localhost:8080/"
        },
        "id": "j2HSOA_1GEoi",
        "outputId": "f683f58d-b4db-4251-8a6f-e30c81bb3a3a"
      },
      "execution_count": 6,
      "outputs": [
        {
          "output_type": "stream",
          "name": "stdout",
          "text": [
            "       0      1      2      3      4      5      6      7      8      9      \\\n",
            "1x1      0.0    0.0    0.0    0.0    0.0    0.0    0.0    0.0    0.0    0.0   \n",
            "1x2      0.0    0.0    0.0    0.0    0.0    0.0    0.0    0.0    0.0    0.0   \n",
            "1x3      0.0    0.0    0.0    0.0    0.0    0.0    0.0    0.0    0.0    0.0   \n",
            "1x4      0.0    0.0    0.0    0.0    0.0    0.0    0.0    0.0    0.0    0.0   \n",
            "1x5      0.0    0.0    0.0    0.0    0.0    0.0    0.0    0.0    0.0    0.0   \n",
            "...      ...    ...    ...    ...    ...    ...    ...    ...    ...    ...   \n",
            "28x24    0.0    0.0    0.0    0.0    0.0    0.0    0.0    0.0    0.0    0.0   \n",
            "28x25    0.0    0.0    0.0    0.0    0.0    0.0    0.0    0.0    0.0    0.0   \n",
            "28x26    0.0    0.0    0.0    0.0    0.0    0.0    0.0    0.0    0.0    0.0   \n",
            "28x27    0.0    0.0    0.0    0.0    0.0    0.0    0.0    0.0    0.0    0.0   \n",
            "28x28    0.0    0.0    0.0    0.0    0.0    0.0    0.0    0.0    0.0    0.0   \n",
            "\n",
            "       ...  59990  59991  59992  59993  59994  59995  59996  59997  59998  \\\n",
            "1x1    ...    0.0    0.0    0.0    0.0    0.0    0.0    0.0    0.0    0.0   \n",
            "1x2    ...    0.0    0.0    0.0    0.0    0.0    0.0    0.0    0.0    0.0   \n",
            "1x3    ...    0.0    0.0    0.0    0.0    0.0    0.0    0.0    0.0    0.0   \n",
            "1x4    ...    0.0    0.0    0.0    0.0    0.0    0.0    0.0    0.0    0.0   \n",
            "1x5    ...    0.0    0.0    0.0    0.0    0.0    0.0    0.0    0.0    0.0   \n",
            "...    ...    ...    ...    ...    ...    ...    ...    ...    ...    ...   \n",
            "28x24  ...    0.0    0.0    0.0    0.0    0.0    0.0    0.0    0.0    0.0   \n",
            "28x25  ...    0.0    0.0    0.0    0.0    0.0    0.0    0.0    0.0    0.0   \n",
            "28x26  ...    0.0    0.0    0.0    0.0    0.0    0.0    0.0    0.0    0.0   \n",
            "28x27  ...    0.0    0.0    0.0    0.0    0.0    0.0    0.0    0.0    0.0   \n",
            "28x28  ...    0.0    0.0    0.0    0.0    0.0    0.0    0.0    0.0    0.0   \n",
            "\n",
            "       59999  \n",
            "1x1      0.0  \n",
            "1x2      0.0  \n",
            "1x3      0.0  \n",
            "1x4      0.0  \n",
            "1x5      0.0  \n",
            "...      ...  \n",
            "28x24    0.0  \n",
            "28x25    0.0  \n",
            "28x26    0.0  \n",
            "28x27    0.0  \n",
            "28x28    0.0  \n",
            "\n",
            "[784 rows x 60000 columns]\n",
            "0        5\n",
            "1        0\n",
            "2        4\n",
            "3        1\n",
            "4        9\n",
            "        ..\n",
            "59995    8\n",
            "59996    3\n",
            "59997    5\n",
            "59998    6\n",
            "59999    8\n",
            "Name: label, Length: 60000, dtype: int64\n"
          ]
        }
      ]
    },
    {
      "cell_type": "code",
      "source": [
        "X_train_reshaped = x_train.T.values.reshape(-1, 28, 28)\n",
        "plt.figure(figsize=(10, 15))\n",
        "for i in range(10):\n",
        "    plt.subplot(5, 5, i+1)\n",
        "    plt.grid(False)\n",
        "    plt.imshow(X_train_reshaped[i])\n",
        "    plt.xlabel(y_train.iloc[i])"
      ],
      "metadata": {
        "colab": {
          "base_uri": "https://localhost:8080/",
          "height": 455
        },
        "id": "N7qyujJwGdWK",
        "outputId": "6a524254-ad13-485d-baf0-5f909a33e743"
      },
      "execution_count": 7,
      "outputs": [
        {
          "output_type": "display_data",
          "data": {
            "text/plain": [
              "<Figure size 1000x1500 with 10 Axes>"
            ],
            "image/png": "[encoded data removed]"
          },
          "metadata": {}
        }
      ]
    },
    {
      "cell_type": "markdown",
      "source": [
        "The remainder on dividing your roll number by 4 will dictate which function you have to complete but ofcourse if you wish to do more and there's no stopping you.\\\n",
        "Roll_number % 6  \n",
        "                  0:RELU\\\n",
        "                  1:softmax\\\n",
        "                  2:forward_propogation\\\n",
        "                  3:one_hot_encode\\\n",
        "                  4:total_loss\\\n",
        "                  5:backward_propagation"
      ],
      "metadata": {
        "id": "YiCiR8xwJNId"
      }
    },
    {
      "cell_type": "code",
      "source": [
        "\n",
        "from numpy import exp\n",
        "class ANN:\n",
        "    def __init__(self, input_size, output_size, learning_rate, num_layers, num_of_nodes_layers):\n",
        "        self.input_size = input_size\n",
        "        self.output_size = output_size\n",
        "        self.learning_rate = learning_rate\n",
        "        self.num_layers = num_layers\n",
        "        self.num_of_nodes_layers = num_of_nodes_layers\n",
        "        self.weights_biases = {}\n",
        "        self.activations = {}\n",
        "        self.initial_params()\n",
        "\n",
        "    def initial_params(self):\n",
        "        np.random.seed(20)\n",
        "        self.weights_biases['W1'] = np.random.rand(self.num_of_nodes_layers, self.input_size) - 0.5\n",
        "        self.weights_biases['b1'] = np.random.rand(self.num_of_nodes_layers, 1) - 0.5\n",
        "\n",
        "        for i in range(2, self.num_layers + 1):\n",
        "            self.weights_biases[f'W{i}'] = np.random.rand(self.num_of_nodes_layers, self.num_of_nodes_layers) - 0.5\n",
        "            self.weights_biases[f'b{i}'] = np.random.rand(self.num_of_nodes_layers, 1) - 0.5\n",
        "\n",
        "        self.weights_biases[f'W{self.num_layers + 1}'] = np.random.rand(self.output_size, self.num_of_nodes_layers) - 0.5\n",
        "        self.weights_biases[f'b{self.num_layers + 1}'] = np.random.rand(self.output_size, 1) - 0.5\n",
        "\n",
        "    def RELU(self, Z):\n",
        "        return np.maximum(0, Z)\n",
        "\n",
        "    def RELU_derivative(self, Z):\n",
        "        return Z > 0\n",
        "\n",
        "    def softmax(self, Z):\n",
        "        expZ = np.exp(Z - np.max(Z, axis=0, keepdims=True))\n",
        "        return expZ / np.sum(expZ, axis=0, keepdims=True)\n",
        "\n",
        "    def forward_propagation(self, X):\n",
        "        self.activations['A0'] = X\n",
        "        A = X\n",
        "        for i in range(1, self.num_layers + 1):\n",
        "            Z = np.dot(self.weights_biases[f'W{i}'], A) + self.weights_biases[f'b{i}']\n",
        "            A = self.RELU(Z)\n",
        "            self.activations[f'A{i}'] = A\n",
        "\n",
        "        Z = np.dot(self.weights_biases[f'W{self.num_layers + 1}'], A) + self.weights_biases[f'b{self.num_layers + 1}']\n",
        "        A = self.softmax(Z)\n",
        "        self.activations[f'A{self.num_layers + 1}'] = A\n",
        "\n",
        "        return A, self.activations\n",
        "\n",
        "    def one_hot_encode(self, y):\n",
        "        one_hot_Y = np.zeros((y.max() + 1, y.size))\n",
        "        one_hot_Y[y, np.arange(y.size)] = 1\n",
        "        return one_hot_Y\n",
        "\n",
        "    def total_loss(self, y_pred, Y):\n",
        "        m = Y.shape[1]\n",
        "        loss = -np.sum(Y * np.log(y_pred)) / m\n",
        "        return loss\n",
        "\n",
        "    def backward_prop(self, y_pred, Y):\n",
        "        gradients = {}\n",
        "        dA = - (Y - y_pred)\n",
        "        m = Y.shape[1]\n",
        "        for i in reversed(range(1, self.num_layers + 2)):\n",
        "            dZ = dA\n",
        "            A_prev = self.activations[f'A{i-1}'] if i > 1 else self.activations['A0']\n",
        "            gradients[f'dW{i}'] = (1/m) * np.dot(dZ, A_prev.T)\n",
        "            gradients[f'db{i}'] = (1/m) * np.sum(dZ, axis=1, keepdims=True)\n",
        "            if i > 1:\n",
        "              W = self.weights_biases[f'W{i}']\n",
        "              dA = np.dot(W.T, dZ) * (A_prev > 0)\n",
        "        return gradients\n",
        "\n",
        "    def update_params(self, gradients):\n",
        "        for i in range(1, self.num_layers + 2):\n",
        "            self.weights_biases[f'W{i}'] -= self.learning_rate * gradients[f'dW{i}']\n",
        "            self.weights_biases[f'b{i}'] -= self.learning_rate * gradients[f'db{i}']\n",
        "\n",
        "    def train(self, X, y, num_iterations):\n",
        "        Y = self.one_hot_encode(y)\n",
        "        for i in range(num_iterations):\n",
        "            y_pred, _ = self.forward_propagation(X)\n",
        "            gradients = self.backward_prop(y_pred, Y)\n",
        "            self.update_params(gradients)\n",
        "            if i % 100 == 0:\n",
        "                loss = self.total_loss(y_pred, Y)\n",
        "                print(f\"Iteration {i}: Loss = {loss}\")\n",
        "\n",
        "    def predict(self, X):\n",
        "        A, _ = self.forward_propagation(X)\n",
        "        predictions = np.argmax(A, axis=0)\n",
        "        return predictions\n"
      ],
      "metadata": {
        "id": "phAYgsG1Gjvd"
      },
      "execution_count": 41,
      "outputs": []
    },
    {
      "cell_type": "code",
      "source": [
        "model = ANN(input_size=784, output_size=10, learning_rate=0.2, num_layers=3, num_of_nodes_layers=64)\n",
        "model.train(x_train, y_train, num_iterations=4000)"
      ],
      "metadata": {
        "colab": {
          "base_uri": "https://localhost:8080/"
        },
        "id": "6TxYkQHqGoZk",
        "outputId": "169b05d5-355e-4c85-f4e7-4b8b7ad582f8"
      },
      "execution_count": 43,
      "outputs": [
        {
          "output_type": "stream",
          "name": "stdout",
          "text": [
            "Iteration 0: Loss = 20.150952623082826\n",
            "Iteration 100: Loss = 0.675680258398016\n",
            "Iteration 200: Loss = 0.4858610399054646\n",
            "Iteration 300: Loss = 0.40417507533274705\n",
            "Iteration 400: Loss = 0.3282409254883864\n",
            "Iteration 500: Loss = 0.29350434049380664\n",
            "Iteration 600: Loss = 0.26527374409850946\n",
            "Iteration 700: Loss = 0.25200914381582223\n",
            "Iteration 800: Loss = 0.22564492873818776\n",
            "Iteration 900: Loss = 0.21246648883805314\n",
            "Iteration 1000: Loss = 0.2022056711550358\n",
            "Iteration 1100: Loss = 0.1924915090730782\n",
            "Iteration 1200: Loss = 0.18627839630277632\n",
            "Iteration 1300: Loss = 0.18481161577866156\n",
            "Iteration 1400: Loss = 0.17212530657545988\n",
            "Iteration 1500: Loss = 0.16511260403070632\n",
            "Iteration 1600: Loss = 0.16533714031451588\n",
            "Iteration 1700: Loss = 0.15429405265754817\n",
            "Iteration 1800: Loss = 0.15077396854939273\n",
            "Iteration 1900: Loss = 0.14249708689471752\n",
            "Iteration 2000: Loss = 0.13830892674059053\n",
            "Iteration 2100: Loss = 0.13602186467275496\n",
            "Iteration 2200: Loss = 0.1317226944047857\n",
            "Iteration 2300: Loss = 0.12877673836788617\n",
            "Iteration 2400: Loss = 0.12610410269809189\n",
            "Iteration 2500: Loss = 0.12150826738001183\n",
            "Iteration 2600: Loss = 0.12044788488697973\n",
            "Iteration 2700: Loss = 0.11680183087831156\n",
            "Iteration 2800: Loss = 0.11735277717036577\n",
            "Iteration 2900: Loss = 0.11133388038427809\n",
            "Iteration 3000: Loss = 0.10830764727316958\n",
            "Iteration 3100: Loss = 0.10647376358946424\n",
            "Iteration 3200: Loss = 0.10378777426665549\n",
            "Iteration 3300: Loss = 0.10568597920573068\n",
            "Iteration 3400: Loss = 0.10092237428123399\n",
            "Iteration 3500: Loss = 0.09850913278115526\n",
            "Iteration 3600: Loss = 0.09670800444019931\n",
            "Iteration 3700: Loss = 0.0955411309859628\n",
            "Iteration 3800: Loss = 0.09723365111650757\n",
            "Iteration 3900: Loss = 0.09148291891045016\n"
          ]
        }
      ]
    },
    {
      "cell_type": "code",
      "source": [
        "m = model.predict(x_test)\n",
        "b = m.shape\n",
        "c = int(b[0])\n",
        "d = np.array(y_test)\n",
        "d = d.T\n",
        "t=0\n",
        "for i in range(c):\n",
        "    if(m[i]==d[i]):\n",
        "        t=t+1\n",
        "print('Accuracy:',t/c *100, '%')\n",
        "\n"
      ],
      "metadata": {
        "colab": {
          "base_uri": "https://localhost:8080/"
        },
        "id": "UnTSxKCWGqyu",
        "outputId": "e8c50037-ebda-41c6-bd87-d6eea41db05e"
      },
      "execution_count": 44,
      "outputs": [
        {
          "output_type": "stream",
          "name": "stdout",
          "text": [
            "Accuracy: 94.35 %\n"
          ]
        }
      ]
    },
    {
      "cell_type": "code",
      "source": [
        "X_test_reshaped = x_test.T.values.reshape(-1, 28, 28)\n",
        "plt.figure(figsize=(5, 5))\n",
        "i = 500\n",
        "print(d[i])\n",
        "plt.imshow(X_test_reshaped[i])\n",
        "plt.xlabel(m[i]);\n"
      ],
      "metadata": {
        "colab": {
          "base_uri": "https://localhost:8080/",
          "height": 482
        },
        "id": "iTJK-5IAGuxd",
        "outputId": "7999dda1-9575-4d2d-ba83-3aa51efad5e2"
      },
      "execution_count": 45,
      "outputs": [
        {
          "output_type": "stream",
          "name": "stdout",
          "text": [
            "3\n"
          ]
        },
        {
          "output_type": "display_data",
          "data": {
            "text/plain": [
              "<Figure size 500x500 with 1 Axes>"
            ],
            "image/png": "[encoded data removed]"
          },
          "metadata": {}
        }
      ]
    }
  ]
}